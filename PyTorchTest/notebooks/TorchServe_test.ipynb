{
 "cells": [
  {
   "cell_type": "code",
   "execution_count": 11,
   "metadata": {},
   "outputs": [],
   "source": [
    "# !pip install request"
   ]
  },
  {
   "cell_type": "code",
   "execution_count": 1,
   "metadata": {},
   "outputs": [],
   "source": [
    "import requests"
   ]
  },
  {
   "cell_type": "code",
   "execution_count": 9,
   "metadata": {},
   "outputs": [
    {
     "data": {
      "text/plain": [
       "{'models': [{'modelName': 'ner', 'modelUrl': 'bert-ner.mar'}]}"
      ]
     },
     "execution_count": 9,
     "metadata": {},
     "output_type": "execute_result"
    }
   ],
   "source": [
    "r = requests.get('http://localhost:8081/models')\n",
    "r.json()"
   ]
  },
  {
   "cell_type": "code",
   "execution_count": 10,
   "metadata": {},
   "outputs": [
    {
     "data": {
      "text/plain": [
       "[{'modelName': 'ner',\n",
       "  'modelVersion': '1.0',\n",
       "  'modelUrl': 'bert-ner.mar',\n",
       "  'runtime': 'python',\n",
       "  'minWorkers': 1,\n",
       "  'maxWorkers': 1,\n",
       "  'batchSize': 1,\n",
       "  'maxBatchDelay': 100,\n",
       "  'loadedAtStartup': True,\n",
       "  'workers': [{'id': '9000',\n",
       "    'startTime': '2020-06-12T16:44:07.445Z',\n",
       "    'status': 'READY',\n",
       "    'gpu': False,\n",
       "    'memoryUsage': 612700160}]}]"
      ]
     },
     "execution_count": 10,
     "metadata": {},
     "output_type": "execute_result"
    }
   ],
   "source": [
    "r = requests.get('http://localhost:8081/models/ner')\n",
    "r.json()"
   ]
  },
  {
   "cell_type": "code",
   "execution_count": 15,
   "metadata": {},
   "outputs": [],
   "source": [
    "url = 'http://127.0.0.1:8080/predictions/ner'\n",
    "files = {'data': open('./data/SampleText.txt', 'rb')}"
   ]
  },
  {
   "cell_type": "code",
   "execution_count": 16,
   "metadata": {},
   "outputs": [],
   "source": [
    "r = requests.post(url, files=files)"
   ]
  },
  {
   "cell_type": "code",
   "execution_count": 17,
   "metadata": {},
   "outputs": [],
   "source": [
    "result_touple = r.json()"
   ]
  },
  {
   "cell_type": "code",
   "execution_count": 18,
   "metadata": {},
   "outputs": [],
   "source": [
    "words, labels = result_touple"
   ]
  },
  {
   "cell_type": "code",
   "execution_count": 19,
   "metadata": {},
   "outputs": [
    {
     "name": "stdout",
     "output_type": "stream",
     "text": [
      "O      Mr\n",
      "O      .\n",
      "B-PER  Trump\n",
      "O      ’\n",
      "O      s\n",
      "O      tweets\n",
      "O      began\n",
      "O      just\n",
      "O      moments\n",
      "O      after\n",
      "O      a\n",
      "B-ORG  Fox\n",
      "I-ORG  News\n",
      "O      report\n",
      "O      by\n",
      "B-PER  Mike\n",
      "I-PER  Tobin\n",
      "O      ,\n",
      "O      a\n",
      "O      reporter\n",
      "O      for\n",
      "O      the\n",
      "B-ORG  network\n",
      "O      ,\n",
      "O      about\n",
      "O      protests\n",
      "O      in\n",
      "B-LOC  Minnesota\n",
      "O      and\n",
      "O      elsewhere\n",
      "O      .\n",
      "B-LOC  India\n",
      "O      and\n",
      "B-LOC  China\n",
      "O      have\n",
      "O      agreed\n",
      "O      to\n",
      "O      peacefully\n",
      "O      resolve\n",
      "O      a\n",
      "O      simmering\n",
      "O      border\n",
      "O      dispute\n",
      "O      between\n",
      "O      the\n",
      "O      world\n",
      "O      '\n",
      "O      s\n",
      "O      two\n",
      "O      most\n",
      "O      populous\n",
      "O      nations\n",
      "O      ,\n",
      "O      officials\n",
      "O      in\n",
      "B-LOC  New\n",
      "I-LOC  Delhi\n",
      "O      said\n",
      "O      .\n",
      "O      [PAD]\n",
      "O      [PAD]\n",
      "O      [PAD]\n",
      "O      [PAD]\n",
      "O      [PAD]\n",
      "O      [PAD]\n",
      "O      [PAD]\n",
      "O      [PAD]\n",
      "O      [PAD]\n",
      "O      [PAD]\n",
      "O      [PAD]\n"
     ]
    }
   ],
   "source": [
    "for w, l in zip(words, labels):\n",
    "    print(\"{:5}  {}\".format(l, w))"
   ]
  },
  {
   "cell_type": "code",
   "execution_count": null,
   "metadata": {},
   "outputs": [],
   "source": []
  },
  {
   "cell_type": "code",
   "execution_count": null,
   "metadata": {},
   "outputs": [],
   "source": []
  }
 ],
 "metadata": {
  "kernelspec": {
   "display_name": "Python 3",
   "language": "python",
   "name": "python3"
  },
  "language_info": {
   "codemirror_mode": {
    "name": "ipython",
    "version": 3
   },
   "file_extension": ".py",
   "mimetype": "text/x-python",
   "name": "python",
   "nbconvert_exporter": "python",
   "pygments_lexer": "ipython3",
   "version": "3.7.5"
  }
 },
 "nbformat": 4,
 "nbformat_minor": 4
}
